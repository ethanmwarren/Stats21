{
 "cells": [
  {
   "cell_type": "markdown",
   "metadata": {},
   "source": [
    "# Stats 21 - HW 3 - Ethan Warren"
   ]
  },
  {
   "cell_type": "markdown",
   "metadata": {},
   "source": [
    "Homework copyright Miles Chen. Problems have been adapted from teh exercises in Think Python 2nd Ed by Allen B. Downey.\n",
    "\n",
    "The questions have been entered into this document. You will modify the document by entering your code.\n",
    "\n",
    "Make sure you run the cell so the requested output is visible. Download the finished document as a PDF file. If you are unable to convert it to a PDF, you can download it as an HTML file and then print to PDF.\n",
    "\n",
    "**Homework is an opportunity to practice coding and to practice problem solving. Doing exercises is where you will do most of your learning.**\n",
    "\n",
    "**Copying someone else's solutions takes away your learning opportunities. It is also academic dishonesty.**"
   ]
  },
  {
   "cell_type": "markdown",
   "metadata": {},
   "source": [
    "## Reading\n",
    "\n",
    "- Chapters 11, 12, and 14\n",
    "\n",
    "Please keep up with the reading. The chapters are short."
   ]
  },
  {
   "cell_type": "markdown",
   "metadata": {},
   "source": [
    "### Exercise 11.1\n",
    "\n",
    "Write a function that reads the words in `words.txt` and stores them as keys in a dictionary. It doesn't matter what the values are. Then you can use the in operator as a fast way to\n",
    "check whether a string is in the dictionary.\n",
    "\n",
    "Use the same `words.txt` file from HW2.\n",
    "\n",
    "Do Exercise 10.10 but this time searching the dictionary using the `in` operator. You can see how much faster it is to search a dictionary."
   ]
  },
  {
   "cell_type": "code",
   "execution_count": 1,
   "metadata": {},
   "outputs": [],
   "source": [
    "def make_word_dict():\n",
    "    global word_dict \n",
    "    word_dict = dict()\n",
    "    words = open(\"words.txt\")\n",
    "    for line in words:\n",
    "        word = line.strip()\n",
    "        word_dict[word] = 1"
   ]
  },
  {
   "cell_type": "code",
   "execution_count": 2,
   "metadata": {},
   "outputs": [],
   "source": [
    "make_word_dict()"
   ]
  },
  {
   "cell_type": "code",
   "execution_count": 3,
   "metadata": {},
   "outputs": [
    {
     "data": {
      "text/plain": [
       "True"
      ]
     },
     "execution_count": 3,
     "metadata": {},
     "output_type": "execute_result"
    }
   ],
   "source": [
    "\"hello\" in word_dict"
   ]
  },
  {
   "cell_type": "markdown",
   "metadata": {},
   "source": [
    "### Exercise 11.4\n",
    "\n",
    "In Exercise 10.7, you created a function called `has_duplicates()`. It takes a list as a parameter and returns `True` if there is any object that appears more than once in the list.\n",
    "\n",
    "Use a dictionary to write a faster, simpler version of `has_duplicates()`."
   ]
  },
  {
   "cell_type": "code",
   "execution_count": 4,
   "metadata": {},
   "outputs": [],
   "source": [
    "def has_duplicates(t):\n",
    "    d = dict()\n",
    "    for x in t:\n",
    "        if x in d:\n",
    "            return True\n",
    "        else:\n",
    "            d[x] = 1\n",
    "    return False"
   ]
  },
  {
   "cell_type": "code",
   "execution_count": 5,
   "metadata": {},
   "outputs": [
    {
     "data": {
      "text/plain": [
       "True"
      ]
     },
     "execution_count": 5,
     "metadata": {},
     "output_type": "execute_result"
    }
   ],
   "source": [
    "has_duplicates(['a','b','b','c'])"
   ]
  },
  {
   "cell_type": "code",
   "execution_count": 6,
   "metadata": {},
   "outputs": [
    {
     "data": {
      "text/plain": [
       "True"
      ]
     },
     "execution_count": 6,
     "metadata": {},
     "output_type": "execute_result"
    }
   ],
   "source": [
    "has_duplicates(['a','b','c','a'])"
   ]
  },
  {
   "cell_type": "raw",
   "metadata": {},
   "source": [
    "### Exercise 11.5\n",
    "\n",
    "A Caesar cipher is a weak form of encryption that involves 'rotating' each letter by a fixed number of places. To rotate a letter means to shift it through the alphabet, wrapping around to the beginning if necessary. \"A\" rotated by 3 is \"D\". \"Z\" rotated by 1 is \"A\".\n",
    "\n",
    "Two words are \"rotate pairs\" if you can rotate one of them and get the other. For example, \"cheer\" rotated by 7 is \"jolly\".\n",
    "\n",
    "Write a script that reads in the wordlist `words.txt` and finds all the rotate pairs of words that are 5 letters or longer.\n",
    "\n",
    "One function that could be helpful is the function `ord()` which converts a character to a numeric code. Keep in mind that numeric codes for uppercase and lowercase letters are different.\n",
    "\n",
    "Some hints:\n",
    "\n",
    "- you can write helper functions, such as a function that will rotate a letter by a certain number and/or another function that will rotate a word by a number of letters\n",
    "- to keep your script running quickly, you should use the wordlist dictionary from exercise 11.1"
   ]
  },
  {
   "cell_type": "code",
   "execution_count": 7,
   "metadata": {},
   "outputs": [],
   "source": [
    "def rotate_letter(letter, by):\n",
    "    u = ord(letter)\n",
    "    newu = u + by\n",
    "    if newu > 122:\n",
    "        newu = newu - 26\n",
    "    new_letter = chr(newu)\n",
    "    return new_letter"
   ]
  },
  {
   "cell_type": "code",
   "execution_count": 8,
   "metadata": {},
   "outputs": [],
   "source": [
    "def rotate_word(word, by):\n",
    "    new_word = \"\"\n",
    "    for char in word:\n",
    "        new_word = new_word + rotate_letter(char, by)\n",
    "    return new_word"
   ]
  },
  {
   "cell_type": "code",
   "execution_count": 9,
   "metadata": {},
   "outputs": [
    {
     "name": "stdout",
     "output_type": "stream",
     "text": [
      "['abjurer', 'nowhere', 13]\n",
      "['adder', 'beefs', 1]\n",
      "['ahull', 'gnarr', 6]\n",
      "['alkyd', 'epoch', 4]\n",
      "['alula', 'tenet', 19]\n",
      "['ambit', 'setal', 18]\n",
      "['anteed', 'bouffe', 1]\n",
      "['aptly', 'timer', 19]\n",
      "['arena', 'river', 17]\n",
      "['baiza', 'tsars', 18]\n",
      "['banjo', 'ferns', 4]\n",
      "['benni', 'ruddy', 16]\n",
      "['biffs', 'holly', 6]\n",
      "['bolls', 'hurry', 6]\n",
      "['bombyx', 'hushed', 6]\n",
      "['bourg', 'viola', 20]\n",
      "['buffi', 'hallo', 6]\n",
      "['bulls', 'harry', 6]\n",
      "['bunny', 'sleep', 17]\n",
      "['butyl', 'hazer', 6]\n",
      "['chain', 'ingot', 6]\n",
      "['cheer', 'jolly', 7]\n",
      "['clasp', 'raphe', 15]\n",
      "['cogon', 'sewed', 16]\n",
      "['commy', 'secco', 16]\n",
      "['corky', 'wiles', 20]\n",
      "['craal', 'penny', 13]\n",
      "['credo', 'shute', 16]\n",
      "['creel', 'perry', 13]\n",
      "['cubed', 'melon', 10]\n",
      "['curly', 'wolfs', 20]\n",
      "['cushy', 'wombs', 20]\n",
      "['danio', 'herms', 4]\n",
      "['dated', 'spits', 15]\n",
      "['dawted', 'splits', 15]\n",
      "['dazed', 'spots', 15]\n",
      "['didos', 'pupae', 12]\n",
      "['dolls', 'wheel', 19]\n",
      "['drips', 'octad', 11]\n",
      "['ebony', 'uredo', 16]\n",
      "['eches', 'kinky', 6]\n",
      "['fadge', 'torus', 14]\n",
      "['fagot', 'touch', 14]\n",
      "['fills', 'lorry', 6]\n",
      "['fizzy', 'kneed', 5]\n",
      "['frena', 'wiver', 17]\n",
      "['frere', 'serer', 13]\n",
      "['fusion', 'layout', 6]\n",
      "['ganja', 'kerne', 4]\n",
      "['gassy', 'smeek', 12]\n",
      "['ginny', 'motte', 6]\n",
      "['gnarl', 'xeric', 17]\n",
      "['golem', 'murks', 6]\n",
      "['golly', 'murre', 6]\n",
      "['green', 'terra', 13]\n",
      "['gulfs', 'marly', 6]\n",
      "['gulls', 'marry', 6]\n",
      "['gummy', 'masse', 6]\n",
      "['gunny', 'matte', 6]\n",
      "['hints', 'styed', 11]\n",
      "['hoggs', 'tasse', 12]\n",
      "['hotel', 'ovals', 7]\n",
      "['inkier', 'purply', 7]\n",
      "['jerky', 'snath', 9]\n",
      "['jiffs', 'polly', 6]\n",
      "['jimmy', 'posse', 6]\n",
      "['jinni', 'potto', 6]\n",
      "['jinns', 'potty', 6]\n",
      "['johns', 'punty', 6]\n",
      "['lallan', 'pepper', 4]\n",
      "['later', 'shaly', 7]\n",
      "['latex', 'shale', 7]\n",
      "['linum', 'rotas', 6]\n",
      "['luffs', 'rally', 6]\n",
      "['lutea', 'pyxie', 4]\n",
      "['manful', 'thumbs', 7]\n",
      "['mills', 'sorry', 6]\n",
      "['mocha', 'suing', 6]\n",
      "['molas', 'surgy', 6]\n",
      "['muffs', 'sally', 6]\n",
      "['mulch', 'sarin', 6]\n",
      "['mumms', 'sassy', 6]\n",
      "['munch', 'satin', 6]\n",
      "['muumuu', 'weewee', 10]\n",
      "['noggs', 'tummy', 6]\n",
      "['nulls', 'tarry', 6]\n",
      "['nutty', 'tazze', 6]\n",
      "['oxter', 'vealy', 7]\n",
      "['pecan', 'tiger', 4]\n",
      "['primero', 'sulphur', 3]\n",
      "['pulpy', 'varve', 6]\n",
      "['ratan', 'vexer', 4]\n",
      "['sheer', 'tiffs', 1]\n",
      "['sneer', 'toffs', 1]\n",
      "['steeds', 'tuffet', 1]\n",
      "['steer', 'tuffs', 1]\n",
      "['teloi', 'whorl', 3]\n"
     ]
    }
   ],
   "source": [
    "track_dict = dict()\n",
    "for word in word_dict:\n",
    "    if len(word) < 5:\n",
    "        continue\n",
    "    if word in track_dict:\n",
    "        continue\n",
    "    l = [word]\n",
    "    for i in range(1, 26):\n",
    "        new_string = rotate_word(word, i)\n",
    "        if new_string in word_dict:\n",
    "            l.append(new_string)\n",
    "            l.append(i)\n",
    "            track_dict[word] = 1\n",
    "            track_dict[new_string] = 1\n",
    "    if len(l) > 1:\n",
    "        print(l)"
   ]
  },
  {
   "cell_type": "code",
   "execution_count": 10,
   "metadata": {},
   "outputs": [
    {
     "data": {
      "text/plain": [
       "True"
      ]
     },
     "execution_count": 10,
     "metadata": {},
     "output_type": "execute_result"
    }
   ],
   "source": [
    "has_duplicates(['a','b','b','c'])"
   ]
  },
  {
   "cell_type": "markdown",
   "metadata": {},
   "source": [
    "### Exercise 12.2\n",
    "\n",
    "Write a program that reads a word list from a file (see Section 9.1) and finds all the sets of words that are anagrams.\n",
    "\n",
    "After finding all anagram sets, print the list of all anagram sets that have 6 or more entries in it.\n",
    "\n",
    "Here is an example of what the output might look like:\n",
    "\n",
    "~~~\n",
    "['abets', 'baste', 'bates', 'beast', 'beats', 'betas', 'tabes']\n",
    "['acers', 'acres', 'cares', 'carse', 'escar', 'races', 'scare', 'serac']\n",
    "['acred', 'arced', 'cadre', 'cared', 'cedar', 'raced']\n",
    "...\n",
    "~~~\n",
    "\n",
    "Hint:\n",
    "\n",
    "First traverse the entire wordlist to build a dictionary that maps from a collection of letters to a list of words that can be spelled with those letters. The question is, how can you represent the collection of letters in a way that can be used as a key? i.e. The word \"eat\" and the word \"tea\" should be in a list associated with a key ('a','e','t')."
   ]
  },
  {
   "cell_type": "code",
   "execution_count": 11,
   "metadata": {},
   "outputs": [
    {
     "data": {
      "text/plain": [
       "[['abets', 'baste', 'bates', 'beast', 'beats', 'betas', 'tabes'],\n",
       " ['acers', 'acres', 'cares', 'carse', 'escar', 'races', 'scare', 'serac'],\n",
       " ['acred', 'arced', 'cadre', 'cared', 'cedar', 'raced'],\n",
       " ['aiders', 'deairs', 'irades', 'raised', 'redias', 'resaid'],\n",
       " ['airts', 'astir', 'sitar', 'stair', 'stria', 'tarsi'],\n",
       " ['alert', 'alter', 'artel', 'later', 'ratel', 'taler'],\n",
       " ['alerting', 'altering', 'integral', 'relating', 'tanglier', 'triangle'],\n",
       " ['alerts',\n",
       "  'alters',\n",
       "  'artels',\n",
       "  'estral',\n",
       "  'laster',\n",
       "  'ratels',\n",
       "  'salter',\n",
       "  'slater',\n",
       "  'staler',\n",
       "  'stelar',\n",
       "  'talers'],\n",
       " ['alevin', 'alvine', 'valine', 'veinal', 'venial', 'vineal'],\n",
       " ['algins', 'aligns', 'lasing', 'liangs', 'ligans', 'lingas', 'signal'],\n",
       " ['aliens', 'alines', 'elains', 'lianes', 'saline', 'silane'],\n",
       " ['aligners', 'engrails', 'nargiles', 'realigns', 'signaler', 'slangier'],\n",
       " ['amens', 'manes', 'manse', 'means', 'mensa', 'names', 'nemas'],\n",
       " ['anestri',\n",
       "  'nastier',\n",
       "  'ratines',\n",
       "  'retains',\n",
       "  'retinas',\n",
       "  'retsina',\n",
       "  'stainer',\n",
       "  'stearin'],\n",
       " ['angriest',\n",
       "  'astringe',\n",
       "  'ganister',\n",
       "  'gantries',\n",
       "  'granites',\n",
       "  'ingrates',\n",
       "  'rangiest'],\n",
       " ['apers',\n",
       "  'asper',\n",
       "  'pares',\n",
       "  'parse',\n",
       "  'pears',\n",
       "  'prase',\n",
       "  'presa',\n",
       "  'rapes',\n",
       "  'reaps',\n",
       "  'spare',\n",
       "  'spear'],\n",
       " ['ardeb', 'barde', 'bared', 'beard', 'bread', 'debar'],\n",
       " ['ardebs', 'bardes', 'beards', 'breads', 'debars', 'sabred', 'serdab'],\n",
       " ['ares', 'arse', 'ears', 'eras', 'rase', 'sear', 'sera'],\n",
       " ['aretes', 'easter', 'eaters', 'reseat', 'seater', 'teaser'],\n",
       " ['aridest', 'astride', 'diaster', 'disrate', 'staider', 'tardies', 'tirades'],\n",
       " ['aril', 'lair', 'liar', 'lira', 'rail', 'rial'],\n",
       " ['ariled', 'derail', 'dialer', 'laired', 'railed', 'redial', 'relaid'],\n",
       " ['arils', 'lairs', 'liars', 'liras', 'rails', 'rials'],\n",
       " ['arles', 'earls', 'lares', 'laser', 'lears', 'rales', 'reals', 'seral'],\n",
       " ['armets', 'master', 'maters', 'matres', 'ramets', 'stream', 'tamers'],\n",
       " ['arrest', 'rarest', 'raster', 'raters', 'starer', 'tarres', 'terras'],\n",
       " ['artiest', 'artiste', 'attires', 'iratest', 'ratites', 'striate', 'tastier'],\n",
       " ['ashed', 'deash', 'hades', 'heads', 'sadhe', 'shade'],\n",
       " ['aspen', 'napes', 'neaps', 'panes', 'peans', 'sneap', 'spean'],\n",
       " ['aspers',\n",
       "  'parses',\n",
       "  'passer',\n",
       "  'prases',\n",
       "  'repass',\n",
       "  'spares',\n",
       "  'sparse',\n",
       "  'spears'],\n",
       " ['aspirer', 'parries', 'praiser', 'rapiers', 'raspier', 'repairs'],\n",
       " ['ates', 'east', 'eats', 'etas', 'sate', 'seat', 'seta', 'teas'],\n",
       " ['bares', 'baser', 'bears', 'braes', 'saber', 'sabre'],\n",
       " ['canter', 'centra', 'nectar', 'recant', 'tanrec', 'trance'],\n",
       " ['canters', 'nectars', 'recants', 'scanter', 'tanrecs', 'trances'],\n",
       " ['capers',\n",
       "  'crapes',\n",
       "  'escarp',\n",
       "  'pacers',\n",
       "  'parsec',\n",
       "  'recaps',\n",
       "  'scrape',\n",
       "  'secpar',\n",
       "  'spacer'],\n",
       " ['caress', 'carses', 'crases', 'escars', 'scares', 'seracs'],\n",
       " ['caret', 'carte', 'cater', 'crate', 'react', 'recta', 'trace'],\n",
       " ['carets',\n",
       "  'cartes',\n",
       "  'caster',\n",
       "  'caters',\n",
       "  'crates',\n",
       "  'reacts',\n",
       "  'recast',\n",
       "  'traces'],\n",
       " ['carpels', 'clasper', 'parcels', 'placers', 'reclasp', 'scalper'],\n",
       " ['claroes', 'coalers', 'escolar', 'oracles', 'recoals', 'solacer'],\n",
       " ['corset', 'coster', 'escort', 'rectos', 'scoter', 'sector'],\n",
       " ['cruet', 'curet', 'cuter', 'eruct', 'recut', 'truce'],\n",
       " ['cruets', 'cruset', 'curets', 'eructs', 'rectus', 'recuts', 'truces'],\n",
       " ['dater', 'derat', 'rated', 'tared', 'trade', 'tread'],\n",
       " ['dearths', 'hardest', 'hardset', 'hatreds', 'threads', 'trashed'],\n",
       " ['deers', 'drees', 'redes', 'reeds', 'seder', 'sered'],\n",
       " ['deils', 'delis', 'idles', 'isled', 'sidle', 'slide'],\n",
       " ['deist', 'diets', 'dites', 'edits', 'sited', 'stied', 'tides'],\n",
       " ['deltas', 'desalt', 'lasted', 'salted', 'slated', 'staled'],\n",
       " ['deposit', 'dopiest', 'podites', 'posited', 'sopited', 'topside'],\n",
       " ['diols', 'idols', 'lidos', 'sloid', 'soldi', 'solid'],\n",
       " ['drapes', 'padres', 'parsed', 'rasped', 'spader', 'spared', 'spread'],\n",
       " ['earings',\n",
       "  'erasing',\n",
       "  'gainers',\n",
       "  'reagins',\n",
       "  'regains',\n",
       "  'reginas',\n",
       "  'searing',\n",
       "  'seringa'],\n",
       " ['easters', 'reseats', 'searest', 'seaters', 'teasers', 'tessera'],\n",
       " ['easting', 'eatings', 'ingates', 'ingesta', 'seating', 'teasing'],\n",
       " ['elastin', 'entails', 'nailset', 'salient', 'saltine', 'tenails'],\n",
       " ['emits', 'items', 'metis', 'mites', 'smite', 'stime', 'times'],\n",
       " ['empires', 'emprise', 'epimers', 'imprese', 'premies', 'premise', 'spireme'],\n",
       " ['enosis', 'eosins', 'essoin', 'noesis', 'noises', 'ossein', 'sonsie'],\n",
       " ['enters', 'nester', 'rentes', 'resent', 'tenser', 'ternes'],\n",
       " ['esprit', 'priest', 'ripest', 'sprite', 'stripe', 'tripes'],\n",
       " ['esprits', 'persist', 'priests', 'spriest', 'sprites', 'stirpes', 'stripes'],\n",
       " ['ester', 'reest', 'reset', 'steer', 'stere', 'terse', 'trees'],\n",
       " ['esters', 'reests', 'resets', 'serest', 'steers', 'steres'],\n",
       " ['estrange', 'grantees', 'greatens', 'negaters', 'reagents', 'sergeant'],\n",
       " ['estrin',\n",
       "  'inerts',\n",
       "  'insert',\n",
       "  'inters',\n",
       "  'niters',\n",
       "  'nitres',\n",
       "  'sinter',\n",
       "  'triens',\n",
       "  'trines'],\n",
       " ['estrous', 'oestrus', 'ousters', 'sourest', 'souters', 'stoures', 'tussore'],\n",
       " ['eviler', 'levier', 'liever', 'relive', 'revile', 'veiler'],\n",
       " ['hales', 'heals', 'leash', 'selah', 'shale', 'sheal'],\n",
       " ['hassel', 'hassle', 'lashes', 'selahs', 'shales', 'sheals'],\n",
       " ['hectors', 'rochets', 'rotches', 'tochers', 'torches', 'troches'],\n",
       " ['lapse', 'leaps', 'pales', 'peals', 'pleas', 'salep', 'sepal', 'spale'],\n",
       " ['lavers', 'ravels', 'salver', 'serval', 'slaver', 'velars', 'versal'],\n",
       " ['laves', 'salve', 'slave', 'vales', 'valse', 'veals'],\n",
       " ['leapt', 'lepta', 'palet', 'petal', 'plate', 'pleat'],\n",
       " ['least',\n",
       "  'setal',\n",
       "  'slate',\n",
       "  'stale',\n",
       "  'steal',\n",
       "  'stela',\n",
       "  'taels',\n",
       "  'tales',\n",
       "  'teals',\n",
       "  'tesla'],\n",
       " ['leasts', 'slates', 'stales', 'steals', 'tassel', 'teslas'],\n",
       " ['luster', 'lustre', 'result', 'rustle', 'sutler', 'ulster'],\n",
       " ['lusters', 'lustres', 'results', 'rustles', 'sutlers', 'ulsters'],\n",
       " ['mates', 'meats', 'satem', 'steam', 'tames', 'teams'],\n",
       " ['merits', 'mister', 'miters', 'mitres', 'remits', 'smiter', 'timers'],\n",
       " ['nestor', 'noters', 'stoner', 'tenors', 'tensor', 'toners', 'trones'],\n",
       " ['notes', 'onset', 'seton', 'steno', 'stone', 'tones'],\n",
       " ['opts', 'post', 'pots', 'spot', 'stop', 'tops'],\n",
       " ['painters', 'pantries', 'pertains', 'pinaster', 'pristane', 'repaints'],\n",
       " ['palest',\n",
       "  'palets',\n",
       "  'pastel',\n",
       "  'petals',\n",
       "  'plates',\n",
       "  'pleats',\n",
       "  'septal',\n",
       "  'staple'],\n",
       " ['palters', 'persalt', 'plaster', 'platers', 'psalter', 'stapler'],\n",
       " ['parties', 'pastier', 'piaster', 'piastre', 'pirates', 'traipse'],\n",
       " ['parts', 'prats', 'sprat', 'strap', 'tarps', 'traps'],\n",
       " ['paste', 'pates', 'peats', 'septa', 'spate', 'tapes', 'tepas'],\n",
       " ['paster', 'paters', 'prates', 'repast', 'tapers', 'trapes'],\n",
       " ['peers', 'peres', 'perse', 'prees', 'prese', 'speer', 'spree'],\n",
       " ['peris', 'piers', 'pries', 'prise', 'ripes', 'speir', 'spier', 'spire'],\n",
       " ['petrous', 'posture', 'pouters', 'proteus', 'spouter', 'troupes'],\n",
       " ['piles', 'plies', 'slipe', 'speil', 'spiel', 'spile'],\n",
       " ['realist', 'retails', 'saltier', 'saltire', 'slatier', 'tailers'],\n",
       " ['recepts', 'respect', 'scepter', 'sceptre', 'specter', 'spectre'],\n",
       " ['reigns', 'renigs', 'resign', 'sering', 'signer', 'singer'],\n",
       " ['reins', 'resin', 'rinse', 'risen', 'serin', 'siren'],\n",
       " ['resaw', 'sawer', 'sewar', 'sware', 'swear', 'wares', 'wears'],\n",
       " ['staw', 'swat', 'taws', 'twas', 'wast', 'wats'],\n",
       " ['stow', 'swot', 'tows', 'twos', 'wost', 'wots']]"
      ]
     },
     "execution_count": 11,
     "metadata": {},
     "output_type": "execute_result"
    }
   ],
   "source": [
    "fin = open(\"words.txt\")\n",
    "anagrams_dict = dict()\n",
    "for line in fin:\n",
    "    word = line.strip()\n",
    "    # letters will become the key for the anagrams dictionary. We need it to be sorted and immutable, so we create a tuple.\n",
    "    letters = tuple(sorted(list(word)))\n",
    "    if letters in anagrams_dict:\n",
    "        anagrams_dict[letters].append(word)\n",
    "    else:\n",
    "        anagrams_dict[letters] = [word]\n",
    "# Make a list of the dictionary values that have more than 6 anagram words and output that.\n",
    "out = list()\n",
    "for l in anagrams_dict.values():\n",
    "    if len(l) > 5:\n",
    "        out.append(l)\n",
    "out"
   ]
  },
  {
   "cell_type": "markdown",
   "metadata": {},
   "source": [
    "### NumPy Exercises\n",
    "\n",
    "For the following exercises, be sure to print the desired output. You will not receive credit for problems that do not print the desired output.\n",
    "\n",
    "Some of these exercises will require the use of functions in numpy that may not have been covered in class. Look up documentation on how to use them. I always recommend checking the official reference at https://numpy.org/doc/stable/reference/index.html "
   ]
  },
  {
   "cell_type": "code",
   "execution_count": 12,
   "metadata": {},
   "outputs": [],
   "source": [
    "import numpy as np\n",
    "np.random.seed(1)"
   ]
  },
  {
   "cell_type": "markdown",
   "metadata": {},
   "source": [
    "#### Exercise NP.1:\n",
    "\n",
    "Task: Create an array `b` of 10 random integers selected between 0-99\n",
    "\n",
    "Desired output: `[37 12 72  9 75  5 79 64 16  1]` of course yours might be different"
   ]
  },
  {
   "cell_type": "code",
   "execution_count": 13,
   "metadata": {},
   "outputs": [
    {
     "name": "stdout",
     "output_type": "stream",
     "text": [
      "[37 12 72  9 75  5 79 64 16  1]\n"
     ]
    }
   ],
   "source": [
    "b = np.random.randint(0, 100, 10)\n",
    "print(b)"
   ]
  },
  {
   "cell_type": "markdown",
   "metadata": {},
   "source": [
    "#### NP.1b:\n",
    "\n",
    "Task: reverse the elements in `b`. Hint: Try slicing the array, but backwards\n",
    "\n",
    "Desired output: `[ 1 16 64 79  5 75  9 72 12 37]` yours will be different"
   ]
  },
  {
   "cell_type": "code",
   "execution_count": 14,
   "metadata": {},
   "outputs": [
    {
     "name": "stdout",
     "output_type": "stream",
     "text": [
      "[ 1 16 64 79  5 75  9 72 12 37]\n"
     ]
    }
   ],
   "source": [
    "print(b[::-1])"
   ]
  },
  {
   "cell_type": "markdown",
   "metadata": {},
   "source": [
    "#### NP.2a:\n",
    "\n",
    "Task: Create an array `c` of 1000 random values selected from a normal distribution centered at 100 with sd = 15, rounded to 1 decimal place. Print only the first 10 values.\n",
    "\n",
    "Desired output: `[ 92.1  83.9 113.   65.5 126.2  88.6 104.8  96.3 121.9  69.1]` of course your values may be different"
   ]
  },
  {
   "cell_type": "code",
   "execution_count": 15,
   "metadata": {},
   "outputs": [
    {
     "name": "stdout",
     "output_type": "stream",
     "text": [
      "[ 92.1  83.9 113.   65.5 126.2  88.6 104.8  96.3 121.9  69.1]\n"
     ]
    }
   ],
   "source": [
    "c = np.random.normal(100, 15, 1000)\n",
    "c = np.round(c, 1)\n",
    "print(c[:10])"
   ]
  },
  {
   "cell_type": "markdown",
   "metadata": {},
   "source": [
    "#### NP.2b:\n",
    "\n",
    "Perform a Shapiro-Wilk test to see if the values in c come from a normal distribution. Report the p-value and appropriate conclusion.\n",
    "\n",
    "Look up `scipy.stats.shapiro` for usage and details.\n",
    "\n",
    "https://docs.scipy.org/doc/scipy/reference/generated/scipy.stats.shapiro.html"
   ]
  },
  {
   "cell_type": "code",
   "execution_count": 44,
   "metadata": {},
   "outputs": [
    {
     "name": "stdout",
     "output_type": "stream",
     "text": [
      "The p-value is 0.179 which means that we cannot reject the null hypothesis. The values in c may follow a normal distribution.\n"
     ]
    }
   ],
   "source": [
    "from scipy import stats\n",
    "shapiro_test = stats.shapiro(c)\n",
    "out = (\"The p-value is {} which means that we cannot reject the null hypothesis. \" +\n",
    "       \"The values in c may follow a normal distribution.\")\n",
    "print(out.format(round(shapiro_test[1], 3)))"
   ]
  },
  {
   "cell_type": "markdown",
   "metadata": {},
   "source": [
    "#### NP.2c:\n",
    "\n",
    "Identify and print the values in `c` that are more than 3 standard deviations from the mean of `c`. Report the proportion of values that are more than 3 sd from the mean.\n",
    "\n",
    "Desired output: `[ 54.1 ... 148.3 ]`\n",
    "\n",
    "`0.32 of the values are beyond 3 sd from the mean.`"
   ]
  },
  {
   "cell_type": "code",
   "execution_count": 17,
   "metadata": {},
   "outputs": [
    {
     "name": "stdout",
     "output_type": "stream",
     "text": [
      "[145.5 159.4 149.8  54.2]\n",
      "0.4% of the values are beyond 3 standard deviations from the mean\n"
     ]
    }
   ],
   "source": [
    "l = list()\n",
    "for value in c:\n",
    "    if value < 55 or value > 145:\n",
    "        l.append(value)\n",
    "print(np.array(l))\n",
    "print(\"{}% of the values are beyond 3 standard deviations from the mean\".format(len(l)/10))"
   ]
  },
  {
   "cell_type": "markdown",
   "metadata": {},
   "source": [
    "#### NP.3:\n",
    "\n",
    "Task: Make a 3x3 identity matrix called `I3`\n",
    "\n",
    "Desired output: \n",
    "\n",
    "~~~\n",
    "[[1. 0. 0.]\n",
    " [0. 1. 0.]\n",
    " [0. 0. 1.]]\n",
    "~~~"
   ]
  },
  {
   "cell_type": "code",
   "execution_count": 18,
   "metadata": {},
   "outputs": [
    {
     "name": "stdout",
     "output_type": "stream",
     "text": [
      "[[1. 0. 0.]\n",
      " [0. 1. 0.]\n",
      " [0. 0. 1.]]\n"
     ]
    }
   ],
   "source": [
    "I3 = np.identity(3)\n",
    "print(I3)"
   ]
  },
  {
   "cell_type": "markdown",
   "metadata": {},
   "source": [
    "#### NP.4a:\n",
    "\n",
    "Task: Make a 10x10 array of values 1 to 100. Call it X\n",
    "\n",
    "Desired output: \n",
    "\n",
    "~~~\n",
    "[[  1   2   3   4   5   6   7   8   9  10]\n",
    " [ 11  12  13  14  15  16  17  18  19  20]\n",
    " [ 21  22  23  24  25  26  27  28  29  30]\n",
    " [ 31  32  33  34  35  36  37  38  39  40]\n",
    " [ 41  42  43  44  45  46  47  48  49  50]\n",
    " [ 51  52  53  54  55  56  57  58  59  60]\n",
    " [ 61  62  63  64  65  66  67  68  69  70]\n",
    " [ 71  72  73  74  75  76  77  78  79  80]\n",
    " [ 81  82  83  84  85  86  87  88  89  90]\n",
    " [ 91  92  93  94  95  96  97  98  99 100]]\n",
    " ~~~"
   ]
  },
  {
   "cell_type": "code",
   "execution_count": 19,
   "metadata": {},
   "outputs": [
    {
     "name": "stdout",
     "output_type": "stream",
     "text": [
      "[[  1   2   3   4   5   6   7   8   9  10]\n",
      " [ 11  12  13  14  15  16  17  18  19  20]\n",
      " [ 21  22  23  24  25  26  27  28  29  30]\n",
      " [ 31  32  33  34  35  36  37  38  39  40]\n",
      " [ 41  42  43  44  45  46  47  48  49  50]\n",
      " [ 51  52  53  54  55  56  57  58  59  60]\n",
      " [ 61  62  63  64  65  66  67  68  69  70]\n",
      " [ 71  72  73  74  75  76  77  78  79  80]\n",
      " [ 81  82  83  84  85  86  87  88  89  90]\n",
      " [ 91  92  93  94  95  96  97  98  99 100]]\n"
     ]
    }
   ],
   "source": [
    "X = np.arange(1, 101, 1).reshape((10,10))\n",
    "print(X)"
   ]
  },
  {
   "cell_type": "markdown",
   "metadata": {},
   "source": [
    "#### NP.4b:\n",
    "\n",
    "Task: Make a copy of X, call it Y (1 line). Replace all values in Y that are not squares with 0 (1 line). see `numpy.isin()`\n",
    "\n",
    "Desired output: \n",
    "\n",
    "~~~\n",
    "[[  1   0   0   4   0   0   0   0   9   0]\n",
    " [  0   0   0   0   0  16   0   0   0   0]\n",
    " [  0   0   0   0  25   0   0   0   0   0]\n",
    "...\n",
    " [  0   0   0   0   0   0   0   0   0 100]]\n",
    " ~~~"
   ]
  },
  {
   "cell_type": "code",
   "execution_count": 20,
   "metadata": {},
   "outputs": [
    {
     "name": "stdout",
     "output_type": "stream",
     "text": [
      "[[  1   0   0   4   0   0   0   0   9   0]\n",
      " [  0   0   0   0   0  16   0   0   0   0]\n",
      " [  0   0   0   0  25   0   0   0   0   0]\n",
      " [  0   0   0   0   0  36   0   0   0   0]\n",
      " [  0   0   0   0   0   0   0   0  49   0]\n",
      " [  0   0   0   0   0   0   0   0   0   0]\n",
      " [  0   0   0  64   0   0   0   0   0   0]\n",
      " [  0   0   0   0   0   0   0   0   0   0]\n",
      " [ 81   0   0   0   0   0   0   0   0   0]\n",
      " [  0   0   0   0   0   0   0   0   0 100]]\n"
     ]
    }
   ],
   "source": [
    "Y = X\n",
    "Y[np.isin(X, np.arange(1, 11)**2, invert= True)] = 0\n",
    "print(Y)"
   ]
  },
  {
   "cell_type": "markdown",
   "metadata": {},
   "source": [
    "#### NP.5:\n",
    "\n",
    "Task: Use `np.tile()` to tile a 2x2 diagonal matrix of integers to make a checkerboard pattern. Call the matrix `checkers`\n",
    "\n",
    "Desired output: \n",
    "\n",
    "~~~\n",
    "[[1 0 1 0 1 0 1 0]\n",
    " [0 1 0 1 0 1 0 1]\n",
    " ...\n",
    " [1 0 1 0 1 0 1 0]\n",
    " [0 1 0 1 0 1 0 1]]\n",
    " ~~~"
   ]
  },
  {
   "cell_type": "code",
   "execution_count": 21,
   "metadata": {},
   "outputs": [
    {
     "name": "stdout",
     "output_type": "stream",
     "text": [
      "[[1 0 1 0 1 0 1 0]\n",
      " [0 1 0 1 0 1 0 1]\n",
      " [1 0 1 0 1 0 1 0]\n",
      " [0 1 0 1 0 1 0 1]\n",
      " [1 0 1 0 1 0 1 0]\n",
      " [0 1 0 1 0 1 0 1]\n",
      " [1 0 1 0 1 0 1 0]\n",
      " [0 1 0 1 0 1 0 1]]\n"
     ]
    }
   ],
   "source": [
    "checkers = np.tile(np.identity(2).astype(int), (4,4))\n",
    "print(checkers)"
   ]
  },
  {
   "cell_type": "markdown",
   "metadata": {},
   "source": [
    "#### NP.6:\n",
    "\n",
    "Task: convert the values in `f_temp` from Farenheit to celsius. The conversion is subtract 32, then multiply by 5/9. Round to 1 decimal place.\n",
    "\n",
    "Desired output: \n",
    "\n",
    "~~~\n",
    "[[21.1 21.7 22.2 22.8 23.3 23.9]\n",
    " ...\n",
    " [34.4 35.  35.6 36.1 36.7 37.2]]\n",
    "~~~"
   ]
  },
  {
   "cell_type": "code",
   "execution_count": 22,
   "metadata": {},
   "outputs": [
    {
     "name": "stdout",
     "output_type": "stream",
     "text": [
      "[[21.1 21.7 22.2 22.8 23.3 23.9]\n",
      " [24.4 25.  25.6 26.1 26.7 27.2]\n",
      " [27.8 28.3 28.9 29.4 30.  30.6]\n",
      " [31.1 31.7 32.2 32.8 33.3 33.9]\n",
      " [34.4 35.  35.6 36.1 36.7 37.2]]\n"
     ]
    }
   ],
   "source": [
    "# do not modify\n",
    "f_temp  = np.arange(70,100).reshape((5,6))\n",
    "print(np.round((f_temp - 32)*5/9, 1))"
   ]
  },
  {
   "cell_type": "markdown",
   "metadata": {},
   "source": [
    "#### NP.7:\n",
    "\n",
    "Task: Convert values in the matrix `x` into z-scores by column, call it matrix `z`. That is: each column should have a mean of 0 and std of 1. (subtract the column mean, and divide by the column std). (not required, but see if you can do this in one line)\n",
    "\n",
    "Print the column means and column std to show that they have been standardized.\n",
    "\n",
    "Desired output: \n",
    "\n",
    "~~~\n",
    "[[-1.09996745 -0.47901666  0.8816739 ]\n",
    " [ 0.9495002   1.18844641  0.11324252]\n",
    "...\n",
    " [-0.60705751 -1.08536687 -0.57430135]\n",
    " [-1.28156585 -0.81250928  1.52877401]]\n",
    " \n",
    " [ 6.66133815e-17  1.11022302e-16 -1.11022302e-16]\n",
    "[1. 1. 1.]\n",
    "~~~"
   ]
  },
  {
   "cell_type": "code",
   "execution_count": 23,
   "metadata": {},
   "outputs": [],
   "source": [
    "# do not modify\n",
    "np.random.seed(100)\n",
    "x = np.random.randint(100,size = 30).reshape(10,3)"
   ]
  },
  {
   "cell_type": "code",
   "execution_count": 24,
   "metadata": {},
   "outputs": [
    {
     "name": "stdout",
     "output_type": "stream",
     "text": [
      "[[-1.09996745 -0.47901666  0.8816739 ]\n",
      " [ 0.9495002   1.18844641  0.11324252]\n",
      " [-1.04808219  1.64320907  0.27501755]\n",
      " [ 1.23486912  0.40019114  0.84123014]\n",
      " [ 1.23486912 -0.78219177 -0.45297008]\n",
      " [-0.68488539 -0.75187426  0.5985676 ]\n",
      " [ 0.19716398 -0.72155675 -1.46406399]\n",
      " [ 1.10515598  1.40066898 -1.74717029]\n",
      " [-0.60705751 -1.08536687 -0.57430135]\n",
      " [-1.28156585 -0.81250928  1.52877401]]\n"
     ]
    }
   ],
   "source": [
    "z = np.array([(x[:,j] - np.mean(x[:,j])) / np.std(x[:,j]) for j in range(3)]).T\n",
    "print(z)"
   ]
  },
  {
   "cell_type": "code",
   "execution_count": 25,
   "metadata": {},
   "outputs": [
    {
     "name": "stdout",
     "output_type": "stream",
     "text": [
      "[4.4408920985006264e-17, 6.661338147750939e-17, -1.3322676295501878e-16]\n",
      "[1.0000000000000002, 1.0, 0.9999999999999999]\n"
     ]
    }
   ],
   "source": [
    "print([np.mean(z[:,j]) for j in range(3)])\n",
    "print([np.std(z[:,j]) for j in range(3)])"
   ]
  },
  {
   "cell_type": "markdown",
   "metadata": {},
   "source": [
    "#### NP.8:\n",
    "\n",
    "Task: Convert values in the matrix `x` into scaled values from 0 to 10. That is take each column and scale values linearly so that the largest value is 10, and the smallest value in the column is 0. Round results to 2 decimal places. Call the result `y`\n",
    "\n",
    "(Not required, but see if you can do the calculations in one line.)\n",
    "\n",
    "Desired output: \n",
    "\n",
    "~~~\n",
    "[[ 0.72  2.22  8.02]\n",
    " [ 8.87  8.33  5.68]\n",
    "...\n",
    " [ 2.68  0.    3.58]\n",
    " [ 0.    1.   10.  ]]\n",
    " ~~~"
   ]
  },
  {
   "cell_type": "code",
   "execution_count": 26,
   "metadata": {},
   "outputs": [],
   "source": [
    "# do not modify\n",
    "np.random.seed(100)\n",
    "x = np.random.randint(100,size = 30).reshape(10,3)"
   ]
  },
  {
   "cell_type": "code",
   "execution_count": 41,
   "metadata": {},
   "outputs": [
    {
     "name": "stdout",
     "output_type": "stream",
     "text": [
      "[[ 0.72  2.22  8.02]\n",
      " [ 8.87  8.33  5.68]\n",
      " [ 0.93 10.    6.17]\n",
      " [10.    5.44  7.9 ]\n",
      " [10.    1.11  3.95]\n",
      " [ 2.37  1.22  7.16]\n",
      " [ 5.88  1.33  0.86]\n",
      " [ 9.48  9.11  0.  ]\n",
      " [ 2.68  0.    3.58]\n",
      " [ 0.    1.   10.  ]]\n"
     ]
    }
   ],
   "source": [
    "y = np.array([10/np.max(x[:,j]-np.min(x[:,j])) * (x[:,j] - np.min(x[:,j])) for j in range(3)]).T.round(2)\n",
    "print(y)"
   ]
  },
  {
   "cell_type": "markdown",
   "metadata": {},
   "source": [
    "#### NP.9:\n",
    "\n",
    "Task: Replace all NaN values in the matrix `x` with 0.\n",
    "\n",
    "Desired output: \n",
    "\n",
    "~~~\n",
    "[[ 8. 24. 67.]\n",
    " [87. 79.  0.]\n",
    " [10.  0. 52.]\n",
    " [ 0. 53. 66.]]\n",
    "~~~"
   ]
  },
  {
   "cell_type": "code",
   "execution_count": 28,
   "metadata": {},
   "outputs": [],
   "source": [
    "# do not modify\n",
    "np.random.seed(100)\n",
    "x = np.random.randint(100,size = 12).reshape(4,3).astype('float')\n",
    "row = np.array([1, 2, 3])\n",
    "col = np.array([2, 1, 0])\n",
    "x[row, col] = np.nan"
   ]
  },
  {
   "cell_type": "code",
   "execution_count": 29,
   "metadata": {},
   "outputs": [
    {
     "data": {
      "text/plain": [
       "array([[ 8., 24., 67.],\n",
       "       [87., 79.,  0.],\n",
       "       [10.,  0., 52.],\n",
       "       [ 0., 53., 66.]])"
      ]
     },
     "execution_count": 29,
     "metadata": {},
     "output_type": "execute_result"
    }
   ],
   "source": [
    "np.nan_to_num(x)"
   ]
  }
 ],
 "metadata": {
  "kernelspec": {
   "display_name": "Python 3 (ipykernel)",
   "language": "python",
   "name": "python3"
  },
  "language_info": {
   "codemirror_mode": {
    "name": "ipython",
    "version": 3
   },
   "file_extension": ".py",
   "mimetype": "text/x-python",
   "name": "python",
   "nbconvert_exporter": "python",
   "pygments_lexer": "ipython3",
   "version": "3.8.8"
  }
 },
 "nbformat": 4,
 "nbformat_minor": 4
}
